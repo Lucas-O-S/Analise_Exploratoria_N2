{
  "nbformat": 4,
  "nbformat_minor": 0,
  "metadata": {
    "colab": {
      "provenance": [],
      "authorship_tag": "ABX9TyMOGqywTIHgBSqkhwzPpyET",
      "include_colab_link": true
    },
    "kernelspec": {
      "name": "python3",
      "display_name": "Python 3"
    },
    "language_info": {
      "name": "python"
    }
  },
  "cells": [
    {
      "cell_type": "markdown",
      "metadata": {
        "id": "view-in-github",
        "colab_type": "text"
      },
      "source": [
        "<a href=\"https://colab.research.google.com/github/Lucas-O-S/Analise_Exploratoria_N2/blob/main/AnaliseExploratoria_N2.ipynb\" target=\"_parent\"><img src=\"https://colab.research.google.com/assets/colab-badge.svg\" alt=\"Open In Colab\"/></a>"
      ]
    },
    {
      "cell_type": "markdown",
      "source": [
        "<a rel=\"license\" href=\"https://faculdadesalvadorarena.org.br/\"><img alt=\"FESA\" style=\"border-width:0\" src=\"https://faculdadesalvadorarena.org.br/wp-content/uploads/2022/07/logo_fesa.png\" /></a><br />\n",
        "**FESA - Eletiva II (2025.1)** <br/>\n",
        "\n",
        "Aluno(a):  - RA: <br/>\n",
        "Aluno(a):  - RA: <br/>\n",
        "Aluno(a):  - RA: <br/>\n",
        "Aluno(a):  - RA: <br/>\n",
        "Data: 15/03/2025 <br/>"
      ],
      "metadata": {
        "id": "YSMGkC0Tbzcp"
      }
    },
    {
      "cell_type": "code",
      "execution_count": null,
      "metadata": {
        "id": "3B_LX9SKbjr2"
      },
      "outputs": [],
      "source": []
    }
  ]
}